{
 "cells": [
  {
   "cell_type": "markdown",
   "metadata": {},
   "source": [
    "#### IMPLEMENT CNN ON CIFAR-1O DATASET USING KERAS"
   ]
  },
  {
   "cell_type": "markdown",
   "metadata": {},
   "source": [
    "### What is CIFAR-10?\n",
    ">The CIFAR-10 dataset (Canadian Institute For Advanced Research) is a collection of images that are commonly used to train machine learning and computer vision algorithms. It is one of the most widely used datasets for machine learning research.\n",
    ">The CIFAR-10 dataset contains 60,000 32x32 color images in 10 different classes.\n",
    ">The 10 different classes represent airplanes, cars, birds, cats, deer, dogs, frogs, horses, ships, and truck\n",
    ">There are 6,000 images of each class\n",
    "source: https://en.wikipedia.org/wiki/CIFAR-10"
   ]
  },
  {
   "cell_type": "markdown",
   "metadata": {},
   "source": [
    "We will be using KERAS framework to build a simple CNN architecture. The dataset is provided in KERAS"
   ]
  },
  {
   "cell_type": "code",
   "execution_count": 36,
   "metadata": {},
   "outputs": [],
   "source": [
    "#import the important libraries\n",
    "import tensorflow as tf\n",
    "import matplotlib.pyplot as plt\n",
    "from tensorflow.keras.datasets import cifar10\n",
    "import numpy as np"
   ]
  },
  {
   "cell_type": "code",
   "execution_count": 2,
   "metadata": {},
   "outputs": [
    {
     "data": {
      "text/plain": [
       "\u001b[0;31mType:\u001b[0m        module\n",
       "\u001b[0;31mString form:\u001b[0m <module 'tensorflow.keras.datasets.cifar10' from '/home/udit/miniconda3/envs/deep_os/lib/python3.7/site-packages/tensorflow_core/python/keras/api/_v2/keras/datasets/cifar10/__init__.py'>\n",
       "\u001b[0;31mFile:\u001b[0m        ~/miniconda3/envs/deep_os/lib/python3.7/site-packages/tensorflow_core/python/keras/api/_v2/keras/datasets/cifar10/__init__.py\n",
       "\u001b[0;31mDocstring:\u001b[0m   CIFAR10 small images classification dataset.\n"
      ]
     },
     "metadata": {},
     "output_type": "display_data"
    }
   ],
   "source": [
    "cifar10?"
   ]
  },
  {
   "cell_type": "code",
   "execution_count": 3,
   "metadata": {},
   "outputs": [
    {
     "name": "stdout",
     "output_type": "stream",
     "text": [
      "Downloading data from https://www.cs.toronto.edu/~kriz/cifar-10-python.tar.gz\n",
      "170500096/170498071 [==============================] - 54s 0us/step\n"
     ]
    }
   ],
   "source": [
    "#Load the dataset and divide it into train and test\n",
    "(x_train, y_train), (x_test, y_test) = cifar10.load_data()"
   ]
  },
  {
   "cell_type": "code",
   "execution_count": 6,
   "metadata": {},
   "outputs": [
    {
     "name": "stdout",
     "output_type": "stream",
     "text": [
      "The shape of training data is: (50000, 32, 32, 3) (50000, 1)\n",
      "The shape of testing data is: (10000, 32, 32, 3) (10000, 1)\n"
     ]
    }
   ],
   "source": [
    "#get shape of the data\n",
    "print(\"The shape of training data is:\",x_train.shape, y_train.shape)\n",
    "print(\"The shape of testing data is:\",x_test.shape, y_test.shape)"
   ]
  },
  {
   "cell_type": "code",
   "execution_count": 8,
   "metadata": {},
   "outputs": [],
   "source": [
    "#setting class names\n",
    "class_names=['airplane','automobile','bird','cat','deer','dog','frog','horse','ship','truck']"
   ]
  },
  {
   "cell_type": "markdown",
   "metadata": {},
   "source": [
    " We need to normalize the image so that our model can train faster. The pixel range of a color image is 0–255. We will be dividing each pixel of the image by 255 so the pixel range will be between 0–1. Actually, we will be dividing it by 255.0 as it is a float operation."
   ]
  },
  {
   "cell_type": "code",
   "execution_count": 10,
   "metadata": {},
   "outputs": [
    {
     "name": "stdout",
     "output_type": "stream",
     "text": [
      "(50000, 32, 32, 3)\n",
      "(10000, 32, 32, 3)\n"
     ]
    }
   ],
   "source": [
    "#normalize the images\n",
    "x_train=x_train/255.0\n",
    "print(x_train.shape)\n",
    "x_test=x_test/255.0\n",
    "print(x_test.shape)"
   ]
  },
  {
   "cell_type": "code",
   "execution_count": 11,
   "metadata": {},
   "outputs": [],
   "source": [
    "cifar10_model = tf.keras.Sequential()"
   ]
  },
  {
   "cell_type": "code",
   "execution_count": 12,
   "metadata": {},
   "outputs": [],
   "source": [
    "#First layer (Conv2d)\n",
    "cifar10_model.add(tf.keras.layers.Conv2D(filters=32,kernel_size=3,padding=\"same\",activation=\"relu\", input_shape = [32,32,3]))"
   ]
  },
  {
   "cell_type": "code",
   "execution_count": 14,
   "metadata": {},
   "outputs": [],
   "source": [
    "#Pooling layer (Max pooling)\n",
    "cifar10_model.add(tf.keras.layers.MaxPool2D(pool_size=2,strides=2, padding='valid'))"
   ]
  },
  {
   "cell_type": "code",
   "execution_count": 15,
   "metadata": {},
   "outputs": [],
   "source": [
    "# Flattening Layer\n",
    "cifar10_model.add(tf.keras.layers.Flatten())"
   ]
  },
  {
   "cell_type": "code",
   "execution_count": 18,
   "metadata": {},
   "outputs": [],
   "source": [
    "# Droput Layer\n",
    "cifar10_model.add(tf.keras.layers.Dropout(0.5,noise_shape=None,seed=None))\n",
    "# Adding the first fully connected layer\n",
    "cifar10_model.add(tf.keras.layers.Dense(units= 128,activation='relu'))"
   ]
  },
  {
   "cell_type": "code",
   "execution_count": 19,
   "metadata": {},
   "outputs": [],
   "source": [
    "# Output Layer\n",
    "cifar10_model.add(tf.keras.layers.Dense(units=10,activation='softmax'))"
   ]
  },
  {
   "cell_type": "code",
   "execution_count": 20,
   "metadata": {},
   "outputs": [
    {
     "name": "stdout",
     "output_type": "stream",
     "text": [
      "Model: \"sequential\"\n",
      "_________________________________________________________________\n",
      "Layer (type)                 Output Shape              Param #   \n",
      "=================================================================\n",
      "conv2d (Conv2D)              (None, 32, 32, 32)        896       \n",
      "_________________________________________________________________\n",
      "max_pooling2d (MaxPooling2D) (None, 16, 16, 32)        0         \n",
      "_________________________________________________________________\n",
      "flatten (Flatten)            (None, 8192)              0         \n",
      "_________________________________________________________________\n",
      "dropout (Dropout)            (None, 8192)              0         \n",
      "_________________________________________________________________\n",
      "dense (Dense)                (None, 128)               1048704   \n",
      "_________________________________________________________________\n",
      "dense_1 (Dense)              (None, 10)                1290      \n",
      "=================================================================\n",
      "Total params: 1,050,890\n",
      "Trainable params: 1,050,890\n",
      "Non-trainable params: 0\n",
      "_________________________________________________________________\n"
     ]
    }
   ],
   "source": [
    "#Summary of our model\n",
    "cifar10_model.summary()"
   ]
  },
  {
   "cell_type": "markdown",
   "metadata": {},
   "source": [
    "Now that we have our model ready with all the layers, we need to compile it. We have to specify a few things before compiling:\n",
    "* for loss we are using \"sparse categorical crossentropy\"\n",
    "* for optimizer we are using adam optimizer\n",
    "* for accuracy we are using sparse categorical accuracy matric"
   ]
  },
  {
   "cell_type": "code",
   "execution_count": 21,
   "metadata": {},
   "outputs": [],
   "source": [
    "#compile the model\n",
    "cifar10_model.compile(loss=\"sparse_categorical_crossentropy\", optimizer=\"Adam\", metrics=[\"sparse_categorical_accuracy\"])"
   ]
  },
  {
   "cell_type": "markdown",
   "metadata": {},
   "source": [
    "LETS TRAIN!!"
   ]
  },
  {
   "cell_type": "code",
   "execution_count": 22,
   "metadata": {},
   "outputs": [
    {
     "name": "stdout",
     "output_type": "stream",
     "text": [
      "Train on 50000 samples\n",
      "Epoch 1/15\n",
      "50000/50000 [==============================] - 37s 737us/sample - loss: 2.0949 - sparse_categorical_accuracy: 0.2347\n",
      "Epoch 2/15\n",
      "50000/50000 [==============================] - 19s 387us/sample - loss: 1.8994 - sparse_categorical_accuracy: 0.3242\n",
      "Epoch 3/15\n",
      "50000/50000 [==============================] - 19s 382us/sample - loss: 1.8022 - sparse_categorical_accuracy: 0.3563\n",
      "Epoch 4/15\n",
      "50000/50000 [==============================] - 20s 392us/sample - loss: 1.7464 - sparse_categorical_accuracy: 0.3794\n",
      "Epoch 5/15\n",
      "50000/50000 [==============================] - 19s 390us/sample - loss: 1.7073 - sparse_categorical_accuracy: 0.3911\n",
      "Epoch 6/15\n",
      "50000/50000 [==============================] - 20s 393us/sample - loss: 1.6837 - sparse_categorical_accuracy: 0.4014\n",
      "Epoch 7/15\n",
      "50000/50000 [==============================] - 20s 394us/sample - loss: 1.6543 - sparse_categorical_accuracy: 0.4107\n",
      "Epoch 8/15\n",
      "50000/50000 [==============================] - 20s 395us/sample - loss: 1.6357 - sparse_categorical_accuracy: 0.4197\n",
      "Epoch 9/15\n",
      "50000/50000 [==============================] - 20s 398us/sample - loss: 1.6168 - sparse_categorical_accuracy: 0.4264\n",
      "Epoch 10/15\n",
      "50000/50000 [==============================] - 20s 399us/sample - loss: 1.5927 - sparse_categorical_accuracy: 0.4335\n",
      "Epoch 11/15\n",
      "50000/50000 [==============================] - 20s 401us/sample - loss: 1.5793 - sparse_categorical_accuracy: 0.4388\n",
      "Epoch 12/15\n",
      "50000/50000 [==============================] - 20s 402us/sample - loss: 1.5619 - sparse_categorical_accuracy: 0.4462\n",
      "Epoch 13/15\n",
      "50000/50000 [==============================] - 20s 403us/sample - loss: 1.5462 - sparse_categorical_accuracy: 0.4503\n",
      "Epoch 14/15\n",
      "50000/50000 [==============================] - 20s 407us/sample - loss: 1.5352 - sparse_categorical_accuracy: 0.4547\n",
      "Epoch 15/15\n",
      "50000/50000 [==============================] - 20s 409us/sample - loss: 1.5219 - sparse_categorical_accuracy: 0.4580\n"
     ]
    },
    {
     "data": {
      "text/plain": [
       "<tensorflow.python.keras.callbacks.History at 0x7f7a0cb4b850>"
      ]
     },
     "execution_count": 22,
     "metadata": {},
     "output_type": "execute_result"
    }
   ],
   "source": [
    "# training the model\n",
    "cifar10_model.fit(x_train,y_train,epochs=15)"
   ]
  },
  {
   "cell_type": "code",
   "execution_count": 24,
   "metadata": {},
   "outputs": [
    {
     "name": "stdout",
     "output_type": "stream",
     "text": [
      "10000/10000 [==============================] - 1s 95us/sample - loss: 1.4685 - sparse_categorical_accuracy: 0.4854\n",
      "The test loss is: 1.4684831424713134\n",
      "The test accuracy is: 0.4854\n"
     ]
    }
   ],
   "source": [
    "test_loss, test_accuracy = cifar10_model.evaluate(x_test, y_test)\n",
    "print(\"The test loss is:\",test_loss)\n",
    "print(\"The test accuracy is:\",test_accuracy)"
   ]
  },
  {
   "cell_type": "code",
   "execution_count": 42,
   "metadata": {},
   "outputs": [],
   "source": [
    "x = np.expand_dims(x_test[5], axis=0)"
   ]
  },
  {
   "cell_type": "code",
   "execution_count": 43,
   "metadata": {},
   "outputs": [],
   "source": [
    "y_test = cifar10_model.predict_classes(x)"
   ]
  },
  {
   "cell_type": "code",
   "execution_count": 44,
   "metadata": {},
   "outputs": [
    {
     "name": "stdout",
     "output_type": "stream",
     "text": [
      "[6]\n"
     ]
    }
   ],
   "source": [
    "print(y_test)"
   ]
  },
  {
   "cell_type": "code",
   "execution_count": null,
   "metadata": {},
   "outputs": [],
   "source": []
  }
 ],
 "metadata": {
  "kernelspec": {
   "display_name": "Python 3",
   "language": "python",
   "name": "python3"
  },
  "language_info": {
   "codemirror_mode": {
    "name": "ipython",
    "version": 3
   },
   "file_extension": ".py",
   "mimetype": "text/x-python",
   "name": "python",
   "nbconvert_exporter": "python",
   "pygments_lexer": "ipython3",
   "version": "3.7.4"
  }
 },
 "nbformat": 4,
 "nbformat_minor": 4
}
